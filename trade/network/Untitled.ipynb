{
 "cells": [
  {
   "cell_type": "code",
   "execution_count": 1,
   "id": "c1bb3b66",
   "metadata": {},
   "outputs": [],
   "source": [
    "import torch\n",
    "from torch import nn"
   ]
  },
  {
   "cell_type": "code",
   "execution_count": 2,
   "id": "952d2b23",
   "metadata": {},
   "outputs": [],
   "source": [
    "input = torch.randn(24, 2915)"
   ]
  },
  {
   "cell_type": "code",
   "execution_count": 3,
   "id": "08147d46",
   "metadata": {},
   "outputs": [
    {
     "data": {
      "text/plain": [
       "tensor([ 0,  0,  0,  1,  0, -1,  1,  0, -1,  0,  0, -1,  0,  0,  0,  2,  1,  0,\n",
       "         1,  0,  0,  0,  1, -1])"
      ]
     },
     "execution_count": 3,
     "metadata": {},
     "output_type": "execute_result"
    }
   ],
   "source": [
    "seq_len = input[:, -1].to(torch.long)\n",
    "seq_len"
   ]
  },
  {
   "cell_type": "code",
   "execution_count": 52,
   "id": "193a2809",
   "metadata": {},
   "outputs": [
    {
     "data": {
      "text/plain": [
       "torch.Size([192, 6, 30])"
      ]
     },
     "execution_count": 52,
     "metadata": {},
     "output_type": "execute_result"
    }
   ],
   "source": [
    "raw_in = input[:, : 6 * 240].reshape(-1, 30, 6).transpose(1, 2)\n",
    "raw_in.shape"
   ]
  },
  {
   "cell_type": "code",
   "execution_count": 5,
   "id": "65ec133e",
   "metadata": {},
   "outputs": [
    {
     "data": {
      "text/plain": [
       "torch.Size([24, 737, 2])"
      ]
     },
     "execution_count": 5,
     "metadata": {},
     "output_type": "execute_result"
    }
   ],
   "source": [
    "dnn_in = input[:, 6 * 240 : -1].reshape(24, -1, 2)\n",
    "dnn_in.shape"
   ]
  },
  {
   "cell_type": "code",
   "execution_count": 48,
   "id": "0b65a23d",
   "metadata": {},
   "outputs": [
    {
     "data": {
      "text/plain": [
       "torch.Size([192, 6, 30])"
      ]
     },
     "execution_count": 48,
     "metadata": {},
     "output_type": "execute_result"
    }
   ],
   "source": [
    "raw_in.shape"
   ]
  },
  {
   "cell_type": "code",
   "execution_count": 79,
   "id": "2c70792f",
   "metadata": {},
   "outputs": [],
   "source": [
    "cnn = nn.Sequential(nn.Conv1d(6, 3, 3), nn.ReLU(),)"
   ]
  },
  {
   "cell_type": "code",
   "execution_count": 77,
   "id": "b2294f0e",
   "metadata": {},
   "outputs": [
    {
     "data": {
      "text/plain": [
       "torch.Size([24, 8, 168])"
      ]
     },
     "execution_count": 77,
     "metadata": {},
     "output_type": "execute_result"
    }
   ],
   "source": [
    "cnn(raw_in).view(24, 8, -1).shape"
   ]
  },
  {
   "cell_type": "code",
   "execution_count": 80,
   "id": "c55d3d91",
   "metadata": {},
   "outputs": [
    {
     "name": "stdout",
     "output_type": "stream",
     "text": [
      "Sequential(\n",
      "  (0): Conv1d(6, 3, kernel_size=(3,), stride=(1,))\n",
      "  (1): ReLU()\n",
      ")\n"
     ]
    }
   ],
   "source": [
    "print(cnn)"
   ]
  },
  {
   "cell_type": "code",
   "execution_count": 117,
   "id": "9c6541b2",
   "metadata": {},
   "outputs": [],
   "source": [
    "cnn1 = nn.Sequential(nn.Conv1d(6, 3, 1), nn.ReLU(), nn.Conv1d(3, 3, 3), nn.ReLU())"
   ]
  },
  {
   "cell_type": "code",
   "execution_count": 119,
   "id": "17e0a1a1",
   "metadata": {},
   "outputs": [
    {
     "data": {
      "text/plain": [
       "torch.Size([24, 8, 84])"
      ]
     },
     "execution_count": 119,
     "metadata": {},
     "output_type": "execute_result"
    }
   ],
   "source": [
    "cnn1(raw_in).view(24, 8, -1).shape"
   ]
  },
  {
   "cell_type": "code",
   "execution_count": 113,
   "id": "4cf57853",
   "metadata": {},
   "outputs": [],
   "source": [
    "cnn = nn.Sequential(nn.Conv1d(6, 3, 1), nn.ReLU(), nn.Conv1d(6, 3, 1), nn.ReLU(), )"
   ]
  },
  {
   "cell_type": "code",
   "execution_count": 106,
   "id": "c4c49477",
   "metadata": {},
   "outputs": [],
   "source": [
    "maxPool = nn.MaxPool1d(kernel_size=1)"
   ]
  },
  {
   "cell_type": "code",
   "execution_count": 107,
   "id": "c61bb09c",
   "metadata": {},
   "outputs": [
    {
     "data": {
      "text/plain": [
       "torch.Size([24, 8, 84])"
      ]
     },
     "execution_count": 107,
     "metadata": {},
     "output_type": "execute_result"
    }
   ],
   "source": [
    "maxPool(cnn_out).shape"
   ]
  },
  {
   "cell_type": "code",
   "execution_count": 108,
   "id": "2c944eae",
   "metadata": {},
   "outputs": [],
   "source": [
    "drop = nn.Dropout(p=0.01)"
   ]
  },
  {
   "cell_type": "code",
   "execution_count": 109,
   "id": "a988755d",
   "metadata": {},
   "outputs": [
    {
     "data": {
      "text/plain": [
       "torch.Size([24, 8, 84])"
      ]
     },
     "execution_count": 109,
     "metadata": {},
     "output_type": "execute_result"
    }
   ],
   "source": [
    "drop(cnn_out).shape"
   ]
  },
  {
   "cell_type": "code",
   "execution_count": 13,
   "id": "98891d60",
   "metadata": {},
   "outputs": [
    {
     "data": {
      "text/plain": [
       "torch.Size([24, 737, 2])"
      ]
     },
     "execution_count": 13,
     "metadata": {},
     "output_type": "execute_result"
    }
   ],
   "source": [
    "dnn_in = input[:, 6 * 240 : -1].reshape(24, -1, 2)\n",
    "dnn_in.shape"
   ]
  },
  {
   "cell_type": "code",
   "execution_count": 84,
   "id": "e69014cf",
   "metadata": {},
   "outputs": [],
   "source": [
    "raw_fc = nn.Sequential(nn.Linear(84, 64), nn.ReLU(), nn.Linear(64, 64), nn.ReLU(),)"
   ]
  },
  {
   "cell_type": "code",
   "execution_count": 97,
   "id": "cd1c7eb3",
   "metadata": {},
   "outputs": [],
   "source": [
    "rnn = nn.LSTM(64, 64, batch_first=True, num_layers=2)"
   ]
  },
  {
   "cell_type": "code",
   "execution_count": 89,
   "id": "004cf082",
   "metadata": {},
   "outputs": [],
   "source": [
    "b = raw_fc(cnn_out)"
   ]
  },
  {
   "cell_type": "code",
   "execution_count": 98,
   "id": "14279bc1",
   "metadata": {},
   "outputs": [],
   "source": [
    "c = rnn(b)[0][:, -1, :]"
   ]
  },
  {
   "cell_type": "code",
   "execution_count": 99,
   "id": "1a4f4a26",
   "metadata": {},
   "outputs": [
    {
     "data": {
      "text/plain": [
       "torch.Size([24, 64])"
      ]
     },
     "execution_count": 99,
     "metadata": {},
     "output_type": "execute_result"
    }
   ],
   "source": [
    "c.shape"
   ]
  },
  {
   "cell_type": "code",
   "execution_count": 14,
   "id": "da1bac7c",
   "metadata": {},
   "outputs": [],
   "source": [
    "dnn = nn.Sequential(nn.Linear(2, 64), nn.ReLU(), nn.Linear(64, 64), nn.ReLU(),)"
   ]
  },
  {
   "cell_type": "code",
   "execution_count": 21,
   "id": "016719de",
   "metadata": {},
   "outputs": [
    {
     "data": {
      "text/plain": [
       "torch.Size([24, 737, 64])"
      ]
     },
     "execution_count": 21,
     "metadata": {},
     "output_type": "execute_result"
    }
   ],
   "source": [
    "dnn(dnn_in).shape"
   ]
  },
  {
   "cell_type": "code",
   "execution_count": 16,
   "id": "daa09f2b",
   "metadata": {},
   "outputs": [],
   "source": [
    "rnn2 = nn.GRU(64, 64, batch_first=True)"
   ]
  },
  {
   "cell_type": "code",
   "execution_count": 31,
   "id": "d7dfa490",
   "metadata": {},
   "outputs": [],
   "source": [
    "a = rnn2(dnn(dnn_in))[0]"
   ]
  },
  {
   "cell_type": "code",
   "execution_count": 32,
   "id": "b823c473",
   "metadata": {},
   "outputs": [
    {
     "data": {
      "text/plain": [
       "torch.Size([24, 737, 64])"
      ]
     },
     "execution_count": 32,
     "metadata": {},
     "output_type": "execute_result"
    }
   ],
   "source": [
    "a.shape"
   ]
  },
  {
   "cell_type": "code",
   "execution_count": 33,
   "id": "1cd9273d",
   "metadata": {},
   "outputs": [],
   "source": [
    "a = a[torch.arange(a.size(0)), seq_len]"
   ]
  },
  {
   "cell_type": "code",
   "execution_count": 34,
   "id": "6c2708d6",
   "metadata": {},
   "outputs": [
    {
     "data": {
      "text/plain": [
       "torch.Size([24, 64])"
      ]
     },
     "execution_count": 34,
     "metadata": {},
     "output_type": "execute_result"
    }
   ],
   "source": [
    "a.shape"
   ]
  },
  {
   "cell_type": "code",
   "execution_count": 92,
   "id": "9902f644",
   "metadata": {},
   "outputs": [
    {
     "data": {
      "text/plain": [
       "torch.Size([24, 128])"
      ]
     },
     "execution_count": 92,
     "metadata": {},
     "output_type": "execute_result"
    }
   ],
   "source": [
    "torch.cat((c, a), dim=-1).shape"
   ]
  },
  {
   "cell_type": "code",
   "execution_count": null,
   "id": "2d2425e5",
   "metadata": {},
   "outputs": [],
   "source": []
  }
 ],
 "metadata": {
  "kernelspec": {
   "display_name": "Python 3",
   "language": "python",
   "name": "python3"
  },
  "language_info": {
   "codemirror_mode": {
    "name": "ipython",
    "version": 3
   },
   "file_extension": ".py",
   "mimetype": "text/x-python",
   "name": "python",
   "nbconvert_exporter": "python",
   "pygments_lexer": "ipython3",
   "version": "3.8.8"
  }
 },
 "nbformat": 4,
 "nbformat_minor": 5
}
